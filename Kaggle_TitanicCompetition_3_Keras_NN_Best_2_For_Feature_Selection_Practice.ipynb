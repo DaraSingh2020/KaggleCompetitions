{
 "cells": [
  {
   "cell_type": "code",
   "execution_count": 1,
   "metadata": {},
   "outputs": [],
   "source": [
    "import numpy as np\n",
    "import pandas as pd\n",
    "import matplotlib.pyplot as plt\n",
    "import sklearn as sk\n",
    "from sklearn.svm import SVR,SVC\n",
    "from sklearn.preprocessing import OneHotEncoder\n",
    "from sklearn.cluster import KMeans\n",
    "from sklearn.preprocessing import Normalizer,MinMaxScaler\n",
    "import tensorflow as tf\n",
    "\n",
    "from tensorflow.keras.models import Sequential\n",
    "from tensorflow.keras.layers import Dense,Dropout\n",
    "from tensorflow.keras.wrappers.scikit_learn import KerasClassifier\n",
    "from sklearn.model_selection import KFold,StratifiedKFold,cross_val_score,GridSearchCV,train_test_split\n",
    "from sklearn.feature_selection import VarianceThreshold,SelectKBest,SelectPercentile,GenericUnivariateSelect,chi2\n",
    "from sklearn.feature_selection import SelectKBest, f_classif,mutual_info_classif,f_regression,RFECV"
   ]
  },
  {
   "cell_type": "code",
   "execution_count": 2,
   "metadata": {},
   "outputs": [],
   "source": [
    "def read_files(Train,Test):\n",
    "    titanic_train=pd.read_csv(Train,index_col=0)\n",
    "    titanic_test=pd.read_csv(Test,index_col=0)\n",
    "    return titanic_train,titanic_test"
   ]
  },
  {
   "cell_type": "code",
   "execution_count": 3,
   "metadata": {},
   "outputs": [],
   "source": [
    "def fix_names(df_for_names):\n",
    "    Titles_dict={'Mrs.':'Mrs.','Miss.':'Miss.','Master.':'Master.','Lady.':'Lady.','Dr.':'Officer.','Sir.':'Royalty.','Major.':'Officer.',\n",
    "             'Capt.':'Officer.','Col.':'Officer.','Mr.':'Mr.','Rev.':'Officer.','Don.':'Royalty.','Countess.':'Royalty.',\n",
    "             'Mlle.':'Miss.','Ms.':'Mrs.','Mme.':'Mr.','Jonkheer.':'Royalty.','Dona.':'Miss.'}\n",
    "    for lab,row in df_for_names.iterrows():\n",
    "        words=row['Name'].split()\n",
    "        for word in words:\n",
    "            if word in Titles_dict.keys():\n",
    "                df_for_names.loc[lab,'Name']=Titles_dict[word]\n",
    "    return df_for_names"
   ]
  },
  {
   "cell_type": "code",
   "execution_count": 4,
   "metadata": {},
   "outputs": [],
   "source": [
    "def fix_tickets(df_tickets):\n",
    "    Ticket_dict={'1':1,'2':2,'3':3,'A':4,'C':5,'P':6,'S':7}\n",
    "    for lab,row in df_tickets.iterrows():\n",
    "        if row['Ticket'][0] in Ticket_dict.keys():\n",
    "            df_tickets.loc[lab,'Ticket']=Ticket_dict[row['Ticket'][0]]\n",
    "        else:\n",
    "            df_tickets.loc[lab,'Ticket']=0     \n",
    "    return  df_tickets"
   ]
  },
  {
   "cell_type": "code",
   "execution_count": 5,
   "metadata": {},
   "outputs": [],
   "source": [
    "def fix_cabin_with_similarities(df_cabin):\n",
    "    for lab, row in df_cabin.iterrows():\n",
    "        if pd.notna(row['Cabin']):\n",
    "            df_cabin.loc[lab,'Cabin']=row['Cabin'][0]\n",
    "    Cabin_df=df_cabin.groupby(['Cabin']).mean()\n",
    "    Cabin_labels=list(Cabin_df.index)\n",
    "    Cabin_Fare=Cabin_df[['Fare']]\n",
    "    Cabin_Parch=Cabin_df[['Parch']]\n",
    "    Cabin_Fare_np=Cabin_Fare.to_numpy()\n",
    "    Cabin_Parch_np=Cabin_Parch.to_numpy()\n",
    "    Cabin_Fare_Kmeans=KMeans(n_clusters=7).fit(Cabin_Fare_np)\n",
    "    Cabin_Parch_Kmeans=KMeans(n_clusters=7).fit(Cabin_Parch_np)\n",
    "    Cabin_Fare_Labels=list(Cabin_Fare_Kmeans.labels_)\n",
    "    Cabin_Parch_Labels=list(Cabin_Parch_Kmeans.labels_)\n",
    "    Cabin_Parch_dict=dict(zip(Cabin_Parch_Labels,Cabin_labels))\n",
    "    Cabin_Fare_dict=dict(zip(Cabin_Fare_Labels,Cabin_labels))\n",
    "    for lab, row in df_cabin.iterrows():\n",
    "        if pd.isna(row['Cabin']):\n",
    "            if pd.notna(row['Fare']):\n",
    "                point=row[['Fare']].to_numpy()\n",
    "                CB_key=Cabin_Fare_Kmeans.predict([point])[0]\n",
    "                CB_Value=Cabin_Fare_dict[CB_key]\n",
    "                df_cabin.loc[lab,'Cabin']=CB_Value\n",
    "            else:\n",
    "                point=row[['Parch']].to_numpy()\n",
    "                CB_key=Cabin_Parch_Kmeans.predict([point])[0]\n",
    "                CB_Value=Cabin_Parch_dict[CB_key]\n",
    "                df_cabin.loc[lab,'Cabin']=CB_Value\n",
    "    return df_cabin"
   ]
  },
  {
   "cell_type": "code",
   "execution_count": 6,
   "metadata": {},
   "outputs": [],
   "source": [
    "def fix_cabin_with_most_frequent(df_cabin):\n",
    "    for lab, row in df_cabin.iterrows():\n",
    "        if pd.notna(row['Cabin']):\n",
    "            df_cabin.loc[lab,'Cabin']=row['Cabin'][0]\n",
    "    Max_Frequency=df_cabin['Cabin'].value_counts().idxmax()\n",
    "    for lab, row in df_cabin.iterrows():\n",
    "        if pd.isna(row['Cabin']):\n",
    "            df_cabin.loc[lab,'Cabin']=Max_Frequency\n",
    "    return df_cabin"
   ]
  },
  {
   "cell_type": "code",
   "execution_count": 7,
   "metadata": {},
   "outputs": [],
   "source": [
    "def fix_age(df_age):\n",
    "    for lab,row in df_age.iterrows():\n",
    "        if pd.notna(row['Age']):\n",
    "            if row['Age']<7:\n",
    "                df_age.loc[lab,'Age']=0\n",
    "            elif row['Age']>55:\n",
    "                df_age.loc[lab,'Age']=2\n",
    "            else:\n",
    "                df_age.loc[lab,'Age']=1\n",
    "        else:\n",
    "            df_age.loc[lab,'Age']=3\n",
    "    return df_age"
   ]
  },
  {
   "cell_type": "code",
   "execution_count": 8,
   "metadata": {},
   "outputs": [],
   "source": [
    "def fix_age_median(df_age):\n",
    "    Title_Age_Table=df_age.groupby(['Name']).median()[['Age']]\n",
    "    Count=0\n",
    "    for lab,row in df_age.iterrows():\n",
    "        if pd.isna(row['Age']):\n",
    "            label=row['Name']\n",
    "            df_age.loc[lab,'Age']=Title_Age_Table.loc[label,'Age']\n",
    "    df_age.loc[:,'Age'].fillna(df_age['Age'].mean(),inplace=True)\n",
    "    return df_age"
   ]
  },
  {
   "cell_type": "code",
   "execution_count": 9,
   "metadata": {},
   "outputs": [],
   "source": [
    "def model_maker(optimizer='adam',initializer='glorot_uniform'):\n",
    "    model=Sequential()\n",
    "    model.add(Dense(units=8,activation='relu',kernel_initializer=initializer,input_shape=(28,)))\n",
    "    #model.add(Dense(units=n_neurons2,activation='relu'))\n",
    "    model.add(Dense(units=1,activation='sigmoid'))\n",
    "    model.compile(loss='binary_crossentropy',optimizer='adam',metrics=['accuracy'],verbose=0)\n",
    "    return model"
   ]
  },
  {
   "cell_type": "code",
   "execution_count": 10,
   "metadata": {},
   "outputs": [],
   "source": [
    "titanic_train,titanic_test=read_files('train.csv','test.csv')\n",
    "X0=fix_tickets(titanic_train)\n",
    "T0=fix_tickets(titanic_test)\n",
    "X1=fix_names(X0)\n",
    "T1=fix_names(T0)\n",
    "X2=fix_cabin_with_most_frequent(X1)\n",
    "T2=fix_cabin_with_most_frequent(T1)\n",
    "X3=fix_age_median(X2)\n",
    "T3=fix_age_median(T2)"
   ]
  },
  {
   "cell_type": "raw",
   "metadata": {},
   "source": [
    "Parch_dict={0:0,1:1,2:1,3:2,4:2,5:2,6:2,9:2}\n",
    "X3.loc[:,'Parch'].replace(Parch_dict,inplace=True)\n",
    "T3.loc[:,'Parch'].replace(Parch_dict,inplace=True)"
   ]
  },
  {
   "cell_type": "raw",
   "metadata": {},
   "source": [
    "SibSP_dict={0:0,1:1,2:2,3:3,4:3,5:3,8:2}\n",
    "X3.loc[:,'SibSp'].replace(SibSP_dict,inplace=True)\n",
    "T3.loc[:,'SibSp'].replace(SibSP_dict,inplace=True)"
   ]
  },
  {
   "cell_type": "code",
   "execution_count": 11,
   "metadata": {},
   "outputs": [],
   "source": [
    "Parch_dict={6:6,9:6}\n",
    "X3.loc[:,'Parch'].replace(Parch_dict,inplace=True)\n",
    "T3.loc[:,'Parch'].replace(Parch_dict,inplace=True)"
   ]
  },
  {
   "cell_type": "code",
   "execution_count": 12,
   "metadata": {
    "scrolled": false
   },
   "outputs": [
    {
     "name": "stdout",
     "output_type": "stream",
     "text": [
      "['S', 'C', 'Q']\n"
     ]
    }
   ],
   "source": [
    "Embark_list=X3.loc[:,'Embarked'].value_counts()[:].index.tolist()\n",
    "print(Embark_list)"
   ]
  },
  {
   "cell_type": "code",
   "execution_count": 13,
   "metadata": {
    "scrolled": true
   },
   "outputs": [],
   "source": [
    "X3.loc[:,'Embarked'].fillna(Embark_list[0],inplace=True)\n",
    "T3.loc[:,'Embarked'].fillna(Embark_list[0],inplace=True)"
   ]
  },
  {
   "cell_type": "code",
   "execution_count": 14,
   "metadata": {},
   "outputs": [],
   "source": [
    "T3.loc[:,'Fare'].fillna(T3.loc[:,'Fare'].median(),inplace=True)"
   ]
  },
  {
   "cell_type": "code",
   "execution_count": 15,
   "metadata": {},
   "outputs": [
    {
     "data": {
      "text/plain": [
       "Pclass      0\n",
       "Name        0\n",
       "Sex         0\n",
       "Age         0\n",
       "SibSp       0\n",
       "Parch       0\n",
       "Ticket      0\n",
       "Fare        0\n",
       "Cabin       0\n",
       "Embarked    0\n",
       "dtype: int64"
      ]
     },
     "execution_count": 15,
     "metadata": {},
     "output_type": "execute_result"
    }
   ],
   "source": [
    "T3.isna().sum()"
   ]
  },
  {
   "cell_type": "code",
   "execution_count": 16,
   "metadata": {},
   "outputs": [],
   "source": [
    "Train=X3.iloc[:,1:]\n",
    "Test=T3\n",
    "y=X3[['Survived']].to_numpy()"
   ]
  },
  {
   "cell_type": "code",
   "execution_count": 17,
   "metadata": {},
   "outputs": [],
   "source": [
    "cs = MinMaxScaler()"
   ]
  },
  {
   "cell_type": "code",
   "execution_count": 18,
   "metadata": {},
   "outputs": [
    {
     "name": "stdout",
     "output_type": "stream",
     "text": [
      "['Pclass', 'Name', 'Sex', 'Age', 'SibSp', 'Parch', 'Ticket', 'Fare', 'Cabin', 'Embarked']\n"
     ]
    }
   ],
   "source": [
    "Titanic_Columns=list(Train.columns)\n",
    "print(Titanic_Columns)"
   ]
  },
  {
   "cell_type": "code",
   "execution_count": 19,
   "metadata": {},
   "outputs": [],
   "source": [
    "ContinousParameters=['Age','Fare']"
   ]
  },
  {
   "cell_type": "code",
   "execution_count": 20,
   "metadata": {},
   "outputs": [],
   "source": [
    "CategoricalParameters=[member for member in Titanic_Columns if (member not in ContinousParameters)]"
   ]
  },
  {
   "cell_type": "code",
   "execution_count": 21,
   "metadata": {},
   "outputs": [],
   "source": [
    "TrainContinuous = cs.fit_transform(Train[ContinousParameters])\n",
    "TestContinuous = cs.transform(Test[ContinousParameters])\n",
    "One_Hot = OneHotEncoder().fit(Train[CategoricalParameters])\n",
    "TrainCategorical = One_Hot.transform(Train[CategoricalParameters]).toarray()\n",
    "TestCategorical = One_Hot.transform(Test[CategoricalParameters]).toarray()"
   ]
  },
  {
   "cell_type": "code",
   "execution_count": 22,
   "metadata": {},
   "outputs": [],
   "source": [
    "TTrainX = np.hstack((TrainCategorical, TrainContinuous))\n",
    "TTestX = np.hstack((TestCategorical, TestContinuous))"
   ]
  },
  {
   "cell_type": "code",
   "execution_count": 23,
   "metadata": {},
   "outputs": [],
   "source": [
    "TrainX,TestX,TrainY,TestY=train_test_split(TTrainX,y,test_size=0.25,shuffle=True)"
   ]
  },
  {
   "cell_type": "code",
   "execution_count": 23,
   "metadata": {},
   "outputs": [],
   "source": [
    "svc = SVC(kernel=\"linear\")"
   ]
  },
  {
   "cell_type": "code",
   "execution_count": 24,
   "metadata": {},
   "outputs": [],
   "source": [
    "selector= RFECV(estimator=svc, step=1, cv=5)"
   ]
  },
  {
   "cell_type": "code",
   "execution_count": 26,
   "metadata": {},
   "outputs": [
    {
     "name": "stderr",
     "output_type": "stream",
     "text": [
      "C:\\Users\\Dara\\Anaconda3\\envs\\tensorflow\\lib\\site-packages\\sklearn\\utils\\validation.py:760: DataConversionWarning: A column-vector y was passed when a 1d array was expected. Please change the shape of y to (n_samples, ), for example using ravel().\n",
      "  y = column_or_1d(y, warn=True)\n"
     ]
    },
    {
     "data": {
      "text/plain": [
       "RFECV(cv=5,\n",
       "      estimator=SVC(C=1.0, break_ties=False, cache_size=200, class_weight=None,\n",
       "                    coef0=0.0, decision_function_shape='ovr', degree=3,\n",
       "                    gamma='scale', kernel='linear', max_iter=-1,\n",
       "                    probability=False, random_state=None, shrinking=True,\n",
       "                    tol=0.001, verbose=False),\n",
       "      min_features_to_select=1, n_jobs=None, scoring=None, step=1, verbose=0)"
      ]
     },
     "execution_count": 26,
     "metadata": {},
     "output_type": "execute_result"
    }
   ],
   "source": [
    "selector.fit(TTrainX, y)"
   ]
  },
  {
   "cell_type": "code",
   "execution_count": 27,
   "metadata": {
    "scrolled": true
   },
   "outputs": [
    {
     "data": {
      "text/plain": [
       "array([False, False, False, False,  True,  True,  True,  True,  True,\n",
       "        True,  True,  True,  True,  True,  True,  True,  True,  True,\n",
       "        True,  True,  True,  True,  True,  True,  True,  True,  True,\n",
       "       False, False, False, False,  True, False, False, False, False,\n",
       "       False, False,  True, False, False, False, False, False, False,\n",
       "       False, False])"
      ]
     },
     "execution_count": 27,
     "metadata": {},
     "output_type": "execute_result"
    }
   ],
   "source": [
    "selector.support_"
   ]
  },
  {
   "cell_type": "code",
   "execution_count": 28,
   "metadata": {},
   "outputs": [
    {
     "data": {
      "text/plain": [
       "array([15, 17, 16, 23,  1,  1,  1,  1,  1,  1,  1,  1,  1,  1,  1,  1,  1,\n",
       "        1,  1,  1,  1,  1,  1,  1,  1,  1,  1,  3,  5,  6, 22,  1,  2,  4,\n",
       "       11, 13,  8, 12,  1,  9,  7, 10, 20, 21, 19, 18, 14])"
      ]
     },
     "execution_count": 28,
     "metadata": {},
     "output_type": "execute_result"
    }
   ],
   "source": [
    "selector.ranking_"
   ]
  },
  {
   "cell_type": "code",
   "execution_count": 29,
   "metadata": {},
   "outputs": [],
   "source": [
    "X_newTest=selector.transform(TTestX)\n",
    "X_newTrain=selector.transform(TTrainX)"
   ]
  },
  {
   "cell_type": "code",
   "execution_count": 43,
   "metadata": {},
   "outputs": [],
   "source": [
    "X_newTest=selector.transform(TestX)\n",
    "X_newTrain=selector.transform(TrainX)"
   ]
  },
  {
   "cell_type": "code",
   "execution_count": 30,
   "metadata": {
    "scrolled": true
   },
   "outputs": [
    {
     "name": "stdout",
     "output_type": "stream",
     "text": [
      "(418, 25) (891, 25)\n"
     ]
    }
   ],
   "source": [
    "print(X_newTest.shape,X_newTrain.shape)"
   ]
  },
  {
   "cell_type": "code",
   "execution_count": 32,
   "metadata": {},
   "outputs": [
    {
     "name": "stdout",
     "output_type": "stream",
     "text": [
      "Train on 891 samples\n",
      "Epoch 1/30\n",
      "891/891 [==============================] - 1s 709us/sample - loss: 0.6245 - accuracy: 0.7037\n",
      "Epoch 2/30\n",
      "891/891 [==============================] - 0s 73us/sample - loss: 0.5745 - accuracy: 0.7565\n",
      "Epoch 3/30\n",
      "891/891 [==============================] - 0s 65us/sample - loss: 0.5425 - accuracy: 0.7699\n",
      "Epoch 4/30\n",
      "891/891 [==============================] - 0s 70us/sample - loss: 0.5263 - accuracy: 0.7901\n",
      "Epoch 5/30\n",
      "891/891 [==============================] - 0s 68us/sample - loss: 0.5157 - accuracy: 0.7845\n",
      "Epoch 6/30\n",
      "891/891 [==============================] - 0s 86us/sample - loss: 0.5019 - accuracy: 0.7912\n",
      "Epoch 7/30\n",
      "891/891 [==============================] - 0s 82us/sample - loss: 0.5016 - accuracy: 0.7935\n",
      "Epoch 8/30\n",
      "891/891 [==============================] - 0s 90us/sample - loss: 0.4901 - accuracy: 0.8013\n",
      "Epoch 9/30\n",
      "891/891 [==============================] - 0s 84us/sample - loss: 0.4809 - accuracy: 0.8047\n",
      "Epoch 10/30\n",
      "891/891 [==============================] - 0s 84us/sample - loss: 0.4879 - accuracy: 0.8002\n",
      "Epoch 11/30\n",
      "891/891 [==============================] - 0s 90us/sample - loss: 0.4918 - accuracy: 0.8036\n",
      "Epoch 12/30\n",
      "891/891 [==============================] - 0s 86us/sample - loss: 0.4865 - accuracy: 0.8013\n",
      "Epoch 13/30\n",
      "891/891 [==============================] - 0s 77us/sample - loss: 0.4818 - accuracy: 0.8058\n",
      "Epoch 14/30\n",
      "891/891 [==============================] - 0s 73us/sample - loss: 0.4682 - accuracy: 0.8193\n",
      "Epoch 15/30\n",
      "891/891 [==============================] - 0s 68us/sample - loss: 0.4811 - accuracy: 0.8114\n",
      "Epoch 16/30\n",
      "891/891 [==============================] - 0s 68us/sample - loss: 0.4803 - accuracy: 0.8114\n",
      "Epoch 17/30\n",
      "891/891 [==============================] - 0s 66us/sample - loss: 0.4747 - accuracy: 0.8148\n",
      "Epoch 18/30\n",
      "891/891 [==============================] - 0s 70us/sample - loss: 0.4684 - accuracy: 0.8171\n",
      "Epoch 19/30\n",
      "891/891 [==============================] - 0s 67us/sample - loss: 0.4670 - accuracy: 0.8171\n",
      "Epoch 20/30\n",
      "891/891 [==============================] - 0s 65us/sample - loss: 0.4596 - accuracy: 0.8159\n",
      "Epoch 21/30\n",
      "891/891 [==============================] - 0s 65us/sample - loss: 0.4635 - accuracy: 0.8159\n",
      "Epoch 22/30\n",
      "891/891 [==============================] - 0s 65us/sample - loss: 0.4622 - accuracy: 0.8204\n",
      "Epoch 23/30\n",
      "891/891 [==============================] - 0s 77us/sample - loss: 0.4608 - accuracy: 0.8204\n",
      "Epoch 24/30\n",
      "891/891 [==============================] - 0s 76us/sample - loss: 0.4580 - accuracy: 0.8193\n",
      "Epoch 25/30\n",
      "891/891 [==============================] - 0s 77us/sample - loss: 0.4598 - accuracy: 0.8238\n",
      "Epoch 26/30\n",
      "891/891 [==============================] - 0s 71us/sample - loss: 0.4627 - accuracy: 0.8249\n",
      "Epoch 27/30\n",
      "891/891 [==============================] - 0s 67us/sample - loss: 0.4572 - accuracy: 0.8238\n",
      "Epoch 28/30\n",
      "891/891 [==============================] - 0s 71us/sample - loss: 0.4638 - accuracy: 0.8182\n",
      "Epoch 29/30\n",
      "891/891 [==============================] - 0s 71us/sample - loss: 0.4566 - accuracy: 0.8238\n",
      "Epoch 30/30\n",
      "891/891 [==============================] - 0s 72us/sample - loss: 0.4555 - accuracy: 0.8227\n"
     ]
    }
   ],
   "source": [
    "model=Sequential()\n",
    "model.add(Dropout(0.1, input_shape=(25,)))\n",
    "model.add(Dense(units=8,activation='relu'))\n",
    "#model.add(Dropout(0.2))\n",
    "#model.add(Dense(units=8,activation='relu'))\n",
    "model.add(Dense(units=1,activation='sigmoid'))\n",
    "model.compile(loss='binary_crossentropy',optimizer='adam',metrics=['accuracy'],verbose=0)\n",
    "NN_model=model.fit(X_newTrain,y,epochs=30,batch_size=20)"
   ]
  },
  {
   "cell_type": "code",
   "execution_count": 49,
   "metadata": {
    "scrolled": false
   },
   "outputs": [
    {
     "name": "stdout",
     "output_type": "stream",
     "text": [
      "0.83856505\n"
     ]
    }
   ],
   "source": [
    "scores = model.evaluate(X_newTest, TestY, verbose=0)\n",
    "print(scores[1])"
   ]
  },
  {
   "cell_type": "code",
   "execution_count": 32,
   "metadata": {},
   "outputs": [],
   "source": [
    "AllScores={}"
   ]
  },
  {
   "cell_type": "code",
   "execution_count": 55,
   "metadata": {
    "scrolled": true
   },
   "outputs": [
    {
     "name": "stdout",
     "output_type": "stream",
     "text": [
      "{'Features46Dropout2Epoch200Batch10NN9': 0.793722, 'Features20Dropout2Epoch200Batch10NN9Chi2': 0.7892377, 'Features25Dropout2Epoch200Batch10NN9Chi2': 0.80717486}\n"
     ]
    }
   ],
   "source": [
    "AllScores.update(Features25Dropout2Epoch200Batch10NN9Chi2=scores[1])\n",
    "print(AllScores)"
   ]
  },
  {
   "cell_type": "code",
   "execution_count": 33,
   "metadata": {},
   "outputs": [],
   "source": [
    "Titanic_prediction_NN=model.predict_classes(X_newTest)"
   ]
  },
  {
   "cell_type": "code",
   "execution_count": 56,
   "metadata": {},
   "outputs": [
    {
     "name": "stdout",
     "output_type": "stream",
     "text": [
      "[[0]\n",
      " [1]\n",
      " [0]\n",
      " [0]\n",
      " [1]\n",
      " [0]\n",
      " [1]\n",
      " [0]\n",
      " [1]\n",
      " [0]\n",
      " [0]\n",
      " [0]\n",
      " [1]\n",
      " [0]\n",
      " [1]\n",
      " [1]\n",
      " [0]\n",
      " [0]\n",
      " [1]\n",
      " [1]\n",
      " [0]\n",
      " [1]\n",
      " [1]\n",
      " [0]\n",
      " [1]\n",
      " [0]\n",
      " [1]\n",
      " [0]\n",
      " [0]\n",
      " [0]\n",
      " [0]\n",
      " [0]\n",
      " [1]\n",
      " [1]\n",
      " [0]\n",
      " [0]\n",
      " [1]\n",
      " [1]\n",
      " [0]\n",
      " [0]\n",
      " [0]\n",
      " [0]\n",
      " [0]\n",
      " [1]\n",
      " [1]\n",
      " [0]\n",
      " [0]\n",
      " [0]\n",
      " [1]\n",
      " [1]\n",
      " [0]\n",
      " [0]\n",
      " [1]\n",
      " [1]\n",
      " [0]\n",
      " [0]\n",
      " [0]\n",
      " [0]\n",
      " [0]\n",
      " [1]\n",
      " [0]\n",
      " [0]\n",
      " [0]\n",
      " [1]\n",
      " [1]\n",
      " [1]\n",
      " [1]\n",
      " [0]\n",
      " [0]\n",
      " [0]\n",
      " [1]\n",
      " [0]\n",
      " [1]\n",
      " [0]\n",
      " [1]\n",
      " [0]\n",
      " [0]\n",
      " [1]\n",
      " [0]\n",
      " [1]\n",
      " [1]\n",
      " [0]\n",
      " [0]\n",
      " [0]\n",
      " [0]\n",
      " [0]\n",
      " [1]\n",
      " [0]\n",
      " [1]\n",
      " [1]\n",
      " [1]\n",
      " [0]\n",
      " [1]\n",
      " [0]\n",
      " [0]\n",
      " [0]\n",
      " [1]\n",
      " [0]\n",
      " [1]\n",
      " [0]\n",
      " [1]\n",
      " [0]\n",
      " [0]\n",
      " [0]\n",
      " [1]\n",
      " [0]\n",
      " [0]\n",
      " [0]\n",
      " [0]\n",
      " [0]\n",
      " [0]\n",
      " [1]\n",
      " [1]\n",
      " [1]\n",
      " [1]\n",
      " [0]\n",
      " [0]\n",
      " [1]\n",
      " [0]\n",
      " [1]\n",
      " [1]\n",
      " [0]\n",
      " [1]\n",
      " [0]\n",
      " [0]\n",
      " [1]\n",
      " [0]\n",
      " [1]\n",
      " [0]\n",
      " [0]\n",
      " [0]\n",
      " [0]\n",
      " [0]\n",
      " [0]\n",
      " [0]\n",
      " [0]\n",
      " [0]\n",
      " [0]\n",
      " [1]\n",
      " [0]\n",
      " [0]\n",
      " [1]\n",
      " [0]\n",
      " [0]\n",
      " [0]\n",
      " [0]\n",
      " [1]\n",
      " [0]\n",
      " [0]\n",
      " [0]\n",
      " [1]\n",
      " [0]\n",
      " [0]\n",
      " [1]\n",
      " [0]\n",
      " [0]\n",
      " [1]\n",
      " [1]\n",
      " [0]\n",
      " [1]\n",
      " [1]\n",
      " [1]\n",
      " [1]\n",
      " [0]\n",
      " [0]\n",
      " [1]\n",
      " [0]\n",
      " [0]\n",
      " [1]\n",
      " [1]\n",
      " [0]\n",
      " [0]\n",
      " [0]\n",
      " [0]\n",
      " [0]\n",
      " [1]\n",
      " [1]\n",
      " [0]\n",
      " [1]\n",
      " [1]\n",
      " [0]\n",
      " [1]\n",
      " [1]\n",
      " [0]\n",
      " [1]\n",
      " [0]\n",
      " [1]\n",
      " [0]\n",
      " [0]\n",
      " [0]\n",
      " [0]\n",
      " [0]\n",
      " [1]\n",
      " [0]\n",
      " [1]\n",
      " [0]\n",
      " [1]\n",
      " [1]\n",
      " [0]\n",
      " [1]\n",
      " [1]\n",
      " [1]\n",
      " [0]\n",
      " [1]\n",
      " [0]\n",
      " [0]\n",
      " [1]\n",
      " [0]\n",
      " [1]\n",
      " [0]\n",
      " [0]\n",
      " [0]\n",
      " [0]\n",
      " [1]\n",
      " [0]\n",
      " [0]\n",
      " [1]\n",
      " [0]\n",
      " [1]\n",
      " [0]\n",
      " [1]\n",
      " [0]\n",
      " [1]\n",
      " [0]\n",
      " [1]\n",
      " [1]\n",
      " [0]\n",
      " [1]\n",
      " [0]\n",
      " [0]\n",
      " [0]\n",
      " [1]\n",
      " [0]\n",
      " [0]\n",
      " [0]\n",
      " [0]\n",
      " [0]\n",
      " [0]\n",
      " [1]\n",
      " [1]\n",
      " [1]\n",
      " [1]\n",
      " [1]\n",
      " [0]\n",
      " [1]\n",
      " [0]\n",
      " [1]\n",
      " [0]\n",
      " [1]\n",
      " [1]\n",
      " [1]\n",
      " [0]\n",
      " [0]\n",
      " [0]\n",
      " [0]\n",
      " [0]\n",
      " [0]\n",
      " [0]\n",
      " [1]\n",
      " [0]\n",
      " [0]\n",
      " [0]\n",
      " [1]\n",
      " [1]\n",
      " [0]\n",
      " [0]\n",
      " [0]\n",
      " [0]\n",
      " [0]\n",
      " [0]\n",
      " [0]\n",
      " [0]\n",
      " [1]\n",
      " [1]\n",
      " [0]\n",
      " [1]\n",
      " [0]\n",
      " [0]\n",
      " [0]\n",
      " [0]\n",
      " [1]\n",
      " [1]\n",
      " [1]\n",
      " [1]\n",
      " [1]\n",
      " [0]\n",
      " [0]\n",
      " [0]\n",
      " [0]\n",
      " [0]\n",
      " [0]\n",
      " [1]\n",
      " [0]\n",
      " [0]\n",
      " [0]\n",
      " [0]\n",
      " [1]\n",
      " [0]\n",
      " [0]\n",
      " [0]\n",
      " [0]\n",
      " [0]\n",
      " [0]\n",
      " [0]\n",
      " [1]\n",
      " [1]\n",
      " [0]\n",
      " [1]\n",
      " [0]\n",
      " [1]\n",
      " [0]\n",
      " [0]\n",
      " [0]\n",
      " [1]\n",
      " [1]\n",
      " [0]\n",
      " [0]\n",
      " [0]\n",
      " [0]\n",
      " [0]\n",
      " [0]\n",
      " [0]\n",
      " [0]\n",
      " [0]\n",
      " [1]\n",
      " [0]\n",
      " [1]\n",
      " [0]\n",
      " [0]\n",
      " [0]\n",
      " [1]\n",
      " [0]\n",
      " [0]\n",
      " [1]\n",
      " [0]\n",
      " [0]\n",
      " [0]\n",
      " [0]\n",
      " [0]\n",
      " [1]\n",
      " [0]\n",
      " [0]\n",
      " [0]\n",
      " [1]\n",
      " [1]\n",
      " [1]\n",
      " [0]\n",
      " [1]\n",
      " [0]\n",
      " [1]\n",
      " [1]\n",
      " [0]\n",
      " [0]\n",
      " [0]\n",
      " [1]\n",
      " [1]\n",
      " [1]\n",
      " [0]\n",
      " [0]\n",
      " [1]\n",
      " [0]\n",
      " [1]\n",
      " [1]\n",
      " [0]\n",
      " [1]\n",
      " [0]\n",
      " [0]\n",
      " [1]\n",
      " [1]\n",
      " [0]\n",
      " [0]\n",
      " [1]\n",
      " [0]\n",
      " [0]\n",
      " [1]\n",
      " [1]\n",
      " [1]\n",
      " [0]\n",
      " [0]\n",
      " [0]\n",
      " [0]\n",
      " [0]\n",
      " [1]\n",
      " [1]\n",
      " [0]\n",
      " [1]\n",
      " [0]\n",
      " [0]\n",
      " [0]\n",
      " [0]\n",
      " [0]\n",
      " [1]\n",
      " [1]\n",
      " [0]\n",
      " [0]\n",
      " [1]\n",
      " [0]\n",
      " [1]\n",
      " [0]\n",
      " [0]\n",
      " [1]\n",
      " [0]\n",
      " [1]\n",
      " [0]\n",
      " [0]\n",
      " [0]\n",
      " [0]\n",
      " [0]\n",
      " [1]\n",
      " [1]\n",
      " [1]\n",
      " [1]\n",
      " [1]\n",
      " [0]\n",
      " [1]\n",
      " [0]\n",
      " [0]\n",
      " [1]]\n"
     ]
    }
   ],
   "source": [
    "print(Titanic_prediction_NN)"
   ]
  },
  {
   "cell_type": "code",
   "execution_count": 34,
   "metadata": {},
   "outputs": [
    {
     "data": {
      "text/plain": [
       "(418, 1)"
      ]
     },
     "execution_count": 34,
     "metadata": {},
     "output_type": "execute_result"
    }
   ],
   "source": [
    "Titanic_prediction_NN.shape"
   ]
  },
  {
   "cell_type": "code",
   "execution_count": 35,
   "metadata": {},
   "outputs": [],
   "source": [
    "T3['Survived']=Titanic_prediction_NN"
   ]
  },
  {
   "cell_type": "code",
   "execution_count": 59,
   "metadata": {},
   "outputs": [
    {
     "data": {
      "text/html": [
       "<div>\n",
       "<style scoped>\n",
       "    .dataframe tbody tr th:only-of-type {\n",
       "        vertical-align: middle;\n",
       "    }\n",
       "\n",
       "    .dataframe tbody tr th {\n",
       "        vertical-align: top;\n",
       "    }\n",
       "\n",
       "    .dataframe thead th {\n",
       "        text-align: right;\n",
       "    }\n",
       "</style>\n",
       "<table border=\"1\" class=\"dataframe\">\n",
       "  <thead>\n",
       "    <tr style=\"text-align: right;\">\n",
       "      <th></th>\n",
       "      <th>Pclass</th>\n",
       "      <th>Name</th>\n",
       "      <th>Sex</th>\n",
       "      <th>Age</th>\n",
       "      <th>SibSp</th>\n",
       "      <th>Parch</th>\n",
       "      <th>Ticket</th>\n",
       "      <th>Fare</th>\n",
       "      <th>Cabin</th>\n",
       "      <th>Embarked</th>\n",
       "      <th>Survived</th>\n",
       "    </tr>\n",
       "    <tr>\n",
       "      <th>PassengerId</th>\n",
       "      <th></th>\n",
       "      <th></th>\n",
       "      <th></th>\n",
       "      <th></th>\n",
       "      <th></th>\n",
       "      <th></th>\n",
       "      <th></th>\n",
       "      <th></th>\n",
       "      <th></th>\n",
       "      <th></th>\n",
       "      <th></th>\n",
       "    </tr>\n",
       "  </thead>\n",
       "  <tbody>\n",
       "    <tr>\n",
       "      <th>892</th>\n",
       "      <td>3</td>\n",
       "      <td>Mr.</td>\n",
       "      <td>male</td>\n",
       "      <td>34.5</td>\n",
       "      <td>0</td>\n",
       "      <td>0</td>\n",
       "      <td>3</td>\n",
       "      <td>7.8292</td>\n",
       "      <td>C</td>\n",
       "      <td>Q</td>\n",
       "      <td>0</td>\n",
       "    </tr>\n",
       "    <tr>\n",
       "      <th>893</th>\n",
       "      <td>3</td>\n",
       "      <td>Mrs.</td>\n",
       "      <td>female</td>\n",
       "      <td>47.0</td>\n",
       "      <td>1</td>\n",
       "      <td>0</td>\n",
       "      <td>3</td>\n",
       "      <td>7.0000</td>\n",
       "      <td>C</td>\n",
       "      <td>S</td>\n",
       "      <td>1</td>\n",
       "    </tr>\n",
       "    <tr>\n",
       "      <th>894</th>\n",
       "      <td>2</td>\n",
       "      <td>Mr.</td>\n",
       "      <td>male</td>\n",
       "      <td>62.0</td>\n",
       "      <td>0</td>\n",
       "      <td>0</td>\n",
       "      <td>2</td>\n",
       "      <td>9.6875</td>\n",
       "      <td>C</td>\n",
       "      <td>Q</td>\n",
       "      <td>0</td>\n",
       "    </tr>\n",
       "    <tr>\n",
       "      <th>895</th>\n",
       "      <td>3</td>\n",
       "      <td>Mr.</td>\n",
       "      <td>male</td>\n",
       "      <td>27.0</td>\n",
       "      <td>0</td>\n",
       "      <td>0</td>\n",
       "      <td>3</td>\n",
       "      <td>8.6625</td>\n",
       "      <td>C</td>\n",
       "      <td>S</td>\n",
       "      <td>0</td>\n",
       "    </tr>\n",
       "    <tr>\n",
       "      <th>896</th>\n",
       "      <td>3</td>\n",
       "      <td>Mrs.</td>\n",
       "      <td>female</td>\n",
       "      <td>22.0</td>\n",
       "      <td>1</td>\n",
       "      <td>1</td>\n",
       "      <td>3</td>\n",
       "      <td>12.2875</td>\n",
       "      <td>C</td>\n",
       "      <td>S</td>\n",
       "      <td>1</td>\n",
       "    </tr>\n",
       "    <tr>\n",
       "      <th>897</th>\n",
       "      <td>3</td>\n",
       "      <td>Mr.</td>\n",
       "      <td>male</td>\n",
       "      <td>14.0</td>\n",
       "      <td>0</td>\n",
       "      <td>0</td>\n",
       "      <td>0</td>\n",
       "      <td>9.2250</td>\n",
       "      <td>C</td>\n",
       "      <td>S</td>\n",
       "      <td>0</td>\n",
       "    </tr>\n",
       "    <tr>\n",
       "      <th>898</th>\n",
       "      <td>3</td>\n",
       "      <td>Miss.</td>\n",
       "      <td>female</td>\n",
       "      <td>30.0</td>\n",
       "      <td>0</td>\n",
       "      <td>0</td>\n",
       "      <td>3</td>\n",
       "      <td>7.6292</td>\n",
       "      <td>C</td>\n",
       "      <td>Q</td>\n",
       "      <td>1</td>\n",
       "    </tr>\n",
       "    <tr>\n",
       "      <th>899</th>\n",
       "      <td>2</td>\n",
       "      <td>Mr.</td>\n",
       "      <td>male</td>\n",
       "      <td>26.0</td>\n",
       "      <td>1</td>\n",
       "      <td>1</td>\n",
       "      <td>2</td>\n",
       "      <td>29.0000</td>\n",
       "      <td>C</td>\n",
       "      <td>S</td>\n",
       "      <td>0</td>\n",
       "    </tr>\n",
       "    <tr>\n",
       "      <th>900</th>\n",
       "      <td>3</td>\n",
       "      <td>Mrs.</td>\n",
       "      <td>female</td>\n",
       "      <td>18.0</td>\n",
       "      <td>0</td>\n",
       "      <td>0</td>\n",
       "      <td>2</td>\n",
       "      <td>7.2292</td>\n",
       "      <td>C</td>\n",
       "      <td>C</td>\n",
       "      <td>1</td>\n",
       "    </tr>\n",
       "    <tr>\n",
       "      <th>901</th>\n",
       "      <td>3</td>\n",
       "      <td>Mr.</td>\n",
       "      <td>male</td>\n",
       "      <td>21.0</td>\n",
       "      <td>2</td>\n",
       "      <td>0</td>\n",
       "      <td>4</td>\n",
       "      <td>24.1500</td>\n",
       "      <td>C</td>\n",
       "      <td>S</td>\n",
       "      <td>0</td>\n",
       "    </tr>\n",
       "  </tbody>\n",
       "</table>\n",
       "</div>"
      ],
      "text/plain": [
       "             Pclass   Name     Sex   Age  SibSp  Parch Ticket     Fare Cabin  \\\n",
       "PassengerId                                                                    \n",
       "892               3    Mr.    male  34.5      0      0      3   7.8292     C   \n",
       "893               3   Mrs.  female  47.0      1      0      3   7.0000     C   \n",
       "894               2    Mr.    male  62.0      0      0      2   9.6875     C   \n",
       "895               3    Mr.    male  27.0      0      0      3   8.6625     C   \n",
       "896               3   Mrs.  female  22.0      1      1      3  12.2875     C   \n",
       "897               3    Mr.    male  14.0      0      0      0   9.2250     C   \n",
       "898               3  Miss.  female  30.0      0      0      3   7.6292     C   \n",
       "899               2    Mr.    male  26.0      1      1      2  29.0000     C   \n",
       "900               3   Mrs.  female  18.0      0      0      2   7.2292     C   \n",
       "901               3    Mr.    male  21.0      2      0      4  24.1500     C   \n",
       "\n",
       "            Embarked  Survived  \n",
       "PassengerId                     \n",
       "892                Q         0  \n",
       "893                S         1  \n",
       "894                Q         0  \n",
       "895                S         0  \n",
       "896                S         1  \n",
       "897                S         0  \n",
       "898                Q         1  \n",
       "899                S         0  \n",
       "900                C         1  \n",
       "901                S         0  "
      ]
     },
     "execution_count": 59,
     "metadata": {},
     "output_type": "execute_result"
    }
   ],
   "source": [
    "titanic_test.head(10)"
   ]
  },
  {
   "cell_type": "code",
   "execution_count": 36,
   "metadata": {},
   "outputs": [],
   "source": [
    "prediction_df=T3[['Survived']]"
   ]
  },
  {
   "cell_type": "code",
   "execution_count": 37,
   "metadata": {},
   "outputs": [],
   "source": [
    "prediction_df.to_csv('Downloads/Datascience/KaggleStuff/NN_prediction.csv')"
   ]
  }
 ],
 "metadata": {
  "kernelspec": {
   "display_name": "Python 3.7 (tensorflow)",
   "language": "python",
   "name": "tensorflow"
  },
  "language_info": {
   "codemirror_mode": {
    "name": "ipython",
    "version": 3
   },
   "file_extension": ".py",
   "mimetype": "text/x-python",
   "name": "python",
   "nbconvert_exporter": "python",
   "pygments_lexer": "ipython3",
   "version": "3.6.10"
  }
 },
 "nbformat": 4,
 "nbformat_minor": 2
}
